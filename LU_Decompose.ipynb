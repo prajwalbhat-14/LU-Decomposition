{
  "nbformat": 4,
  "nbformat_minor": 0,
  "metadata": {
    "colab": {
      "provenance": []
    },
    "kernelspec": {
      "name": "python3",
      "display_name": "Python 3"
    },
    "language_info": {
      "name": "python"
    }
  },
  "cells": [
    {
      "cell_type": "code",
      "execution_count": 1,
      "metadata": {
        "id": "uxBsz7b7UU7g",
        "outputId": "16329122-4805-449a-91fd-e7f4e122bf3c",
        "colab": {
          "base_uri": "https://localhost:8080/"
        }
      },
      "outputs": [
        {
          "output_type": "stream",
          "name": "stdout",
          "text": [
            "Lower Triangular\t\tUpper Triangular\n",
            "1\t0\t0\t\t2\t-1\t-2\t\n",
            "-2\t1\t0\t\t0\t4\t-1\t\n",
            "-2\t-1\t1\t\t0\t0\t3\t\n"
          ]
        }
      ],
      "source": [
        "MAX = 100\n",
        "def luDecomposition(mat, n):\n",
        "\n",
        "    lower = [[0 for x in range(n)]\n",
        "             for y in range(n)]\n",
        "    upper = [[0 for x in range(n)]\n",
        "             for y in range(n)]\n",
        "\n",
        "    # Decomposing matrix into Upper\n",
        "    # and Lower triangular matrix\n",
        "    for i in range(n):\n",
        "\n",
        "        # Upper Triangular\n",
        "        for k in range(i, n):\n",
        "\n",
        "            # Summation of L(i, j) * U(j, k)\n",
        "            sum = 0\n",
        "            for j in range(i):\n",
        "                sum += (lower[i][j] * upper[j][k])\n",
        "\n",
        "            # Evaluating U(i, k)\n",
        "            upper[i][k] = mat[i][k] - sum\n",
        "\n",
        "        # Lower Triangular\n",
        "        for k in range(i, n):\n",
        "            if (i == k):\n",
        "                lower[i][i] = 1  # Diagonal as 1\n",
        "            else:\n",
        "\n",
        "                # Summation of L(k, j) * U(j, i)\n",
        "                sum = 0\n",
        "                for j in range(i):\n",
        "                    sum += (lower[k][j] * upper[j][i])\n",
        "\n",
        "                # Evaluating L(k, i)\n",
        "                lower[k][i] = int((mat[k][i] - sum) /\n",
        "                                  upper[i][i])\n",
        "\n",
        "    # setw is for displaying nicely\n",
        "    print(\"Lower Triangular\\t\\tUpper Triangular\")\n",
        "\n",
        "    # Displaying the result :\n",
        "    for i in range(n):\n",
        "\n",
        "        # Lower\n",
        "        for j in range(n):\n",
        "            print(lower[i][j], end=\"\\t\")\n",
        "        print(\"\", end=\"\\t\")\n",
        "\n",
        "        # Upper\n",
        "        for j in range(n):\n",
        "            print(upper[i][j], end=\"\\t\")\n",
        "        print(\"\")\n",
        "\n",
        "\n",
        "# Driver code\n",
        "mat = [[2, -1, -2],\n",
        "       [-4, 6, 3],\n",
        "       [-4, -2, 8]]\n",
        "\n",
        "luDecomposition(mat, 3)\n",
        "\n",
        "# This code is contributed by mits"
      ]
    },
    {
      "cell_type": "code",
      "source": [
        "\n",
        "import numpy as np\n",
        "from scipy.linalg import lu\n",
        "\n",
        "# Example dataset as a matrix\n",
        "A = np.array([[2, 1, 1],\n",
        "              [4, -6, 0],\n",
        "              [-2, 7, 2]])\n",
        "\n",
        "# Perform LU decomposition\n",
        "P, L, U = lu(A)\n",
        "\n",
        "# Output the results\n",
        "print(\"Original Matrix (A):\")\n",
        "print(A)\n",
        "\n",
        "print(\"\\nPermutation Matrix (P):\")\n",
        "print(P)\n",
        "\n",
        "print(\"\\nLower Triangular Matrix (L):\")\n",
        "print(L)\n",
        "\n",
        "print(\"\\nUpper Triangular Matrix (U):\")\n",
        "print(U)\n",
        "\n",
        "# Verify the decomposition\n",
        "# A = P @ L @ U\n",
        "reconstructed_A = P @ L @ U\n",
        "print(\"\\nReconstructed Matrix (should be equal to A):\")\n",
        "print(reconstructed_A)"
      ],
      "metadata": {
        "id": "PsUCc5PcnGeB",
        "outputId": "89ad8b4f-b610-4aba-b336-cfadd1551136",
        "colab": {
          "base_uri": "https://localhost:8080/"
        }
      },
      "execution_count": null,
      "outputs": [
        {
          "output_type": "stream",
          "name": "stdout",
          "text": [
            "Original Matrix (A):\n",
            "[[ 2  1  1]\n",
            " [ 4 -6  0]\n",
            " [-2  7  2]]\n",
            "\n",
            "Permutation Matrix (P):\n",
            "[[0. 1. 0.]\n",
            " [1. 0. 0.]\n",
            " [0. 0. 1.]]\n",
            "\n",
            "Lower Triangular Matrix (L):\n",
            "[[ 1.   0.   0. ]\n",
            " [ 0.5  1.   0. ]\n",
            " [-0.5  1.   1. ]]\n",
            "\n",
            "Upper Triangular Matrix (U):\n",
            "[[ 4. -6.  0.]\n",
            " [ 0.  4.  1.]\n",
            " [ 0.  0.  1.]]\n",
            "\n",
            "Reconstructed Matrix (should be equal to A):\n",
            "[[ 2.  1.  1.]\n",
            " [ 4. -6.  0.]\n",
            " [-2.  7.  2.]]\n"
          ]
        }
      ]
    }
  ]
}